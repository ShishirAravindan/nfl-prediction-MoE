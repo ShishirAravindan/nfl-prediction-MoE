{
 "cells": [
  {
   "cell_type": "markdown",
   "metadata": {},
   "source": [
    "# Training FormationExpertCNN (Expert)\n",
    "This notebook demonstrates the training of the CNN expert model for NFL play prediction. The CNN (Convolutional Neural Network) expert focuses on pre-snap team formations to predict whether the offensive team will make a pass or run."
   ]
  },
  {
   "cell_type": "markdown",
   "metadata": {},
   "source": [
    "## Imports"
   ]
  },
  {
   "cell_type": "code",
   "execution_count": 1,
   "metadata": {},
   "outputs": [],
   "source": [
    "import sys\n",
    "sys.path.append('../')"
   ]
  },
  {
   "cell_type": "code",
   "execution_count": 2,
   "metadata": {},
   "outputs": [],
   "source": [
    "import pandas as pd\n",
    "import matplotlib.pyplot as plt"
   ]
  },
  {
   "cell_type": "code",
   "execution_count": 3,
   "metadata": {},
   "outputs": [],
   "source": [
    "from experts.cnn import FormationExpertCNN\n",
    "from etl.dataloader import ExpertDataset"
   ]
  },
  {
   "cell_type": "markdown",
   "metadata": {},
   "source": [
    "## Loading Dataset\n",
    "\n",
    "See `etl` module for more details."
   ]
  },
  {
   "cell_type": "code",
   "execution_count": 4,
   "metadata": {},
   "outputs": [],
   "source": [
    "# Make test-train-split\n",
    "from sklearn.model_selection import train_test_split\n",
    "\n",
    "\n",
    "df = pd.read_csv('features/target.csv')\n",
    "\n",
    "# Split into train (80%) and test (20%) sets\n",
    "df_train, df_test = train_test_split(df, test_size=0.2, random_state=42)\n",
    "\n",
    "# Reset indices\n",
    "df_train = df_train.reset_index(drop=True)\n",
    "df_test = df_test.reset_index(drop=True)\n"
   ]
  },
  {
   "cell_type": "code",
   "execution_count": 5,
   "metadata": {},
   "outputs": [],
   "source": [
    "# create the dataset\n",
    "MLP_train_dataset = ExpertDataset(df_train, expert_name=\"cnn\")\n",
    "MLP_val_dataset = ExpertDataset(df_test, expert_name=\"cnn\")"
   ]
  },
  {
   "cell_type": "code",
   "execution_count": 6,
   "metadata": {},
   "outputs": [],
   "source": [
    "# Get features and targets from dataset\n",
    "X_train, y_train = MLP_train_dataset.features, MLP_train_dataset.targets\n",
    "X_val, y_val = MLP_val_dataset.features, MLP_val_dataset.targets"
   ]
  },
  {
   "cell_type": "code",
   "execution_count": 7,
   "metadata": {},
   "outputs": [
    {
     "data": {
      "text/plain": [
       "((10284, 158, 300, 4), (10284,))"
      ]
     },
     "execution_count": 7,
     "metadata": {},
     "output_type": "execute_result"
    }
   ],
   "source": [
    "X_train.shape, y_train.shape"
   ]
  },
  {
   "cell_type": "markdown",
   "metadata": {},
   "source": [
    "## Training expert\n",
    "See `experts` module for more details. Specifically, see `experts/cnn.py` for more details.\n",
    "\n",
    "**Architecture**:\n",
    "- Input: Grid-based representation of player positions. Image of dimensions 158x300x4\n",
    "- 3 conv layers (16→32→64 channels)\n",
    "- Batch norm + max pooling\n",
    "- 3 FC layers (128→64→1)\n",
    "- Output: binary classification (1 for pass, 0 for run)\n",
    " "
   ]
  },
  {
   "cell_type": "code",
   "execution_count": 8,
   "metadata": {},
   "outputs": [],
   "source": [
    "cnn_model = FormationExpertCNN()"
   ]
  },
  {
   "cell_type": "code",
   "execution_count": 9,
   "metadata": {},
   "outputs": [
    {
     "name": "stdout",
     "output_type": "stream",
     "text": [
      "Epoch [1/5], Loss: 0.7090, Accuracy: 59.52%\n",
      "Epoch [2/5], Loss: 0.6702, Accuracy: 60.68%\n",
      "Epoch [3/5], Loss: 0.6703, Accuracy: 60.68%\n",
      "Epoch [4/5], Loss: 0.6699, Accuracy: 60.68%\n",
      "Epoch [5/5], Loss: 0.6703, Accuracy: 60.68%\n"
     ]
    }
   ],
   "source": [
    "# Training parameters\n",
    "n_epochs = 5\n",
    "batch_size = 32\n",
    "learning_rate = 0.001\n",
    "\n",
    "# Train the model and get metrics\n",
    "train_metrics = cnn_model.train(X_train=X_train, y_train=y_train, \n",
    "                                X_val=None, y_val=None,\n",
    "                                num_epochs=n_epochs,\n",
    "                                batch_size=batch_size, \n",
    "                                alpha=learning_rate)"
   ]
  }
 ],
 "metadata": {
  "kernelspec": {
   "display_name": ".NFLvenv",
   "language": "python",
   "name": "python3"
  },
  "language_info": {
   "codemirror_mode": {
    "name": "ipython",
    "version": 3
   },
   "file_extension": ".py",
   "mimetype": "text/x-python",
   "name": "python",
   "nbconvert_exporter": "python",
   "pygments_lexer": "ipython3",
   "version": "3.11.6"
  }
 },
 "nbformat": 4,
 "nbformat_minor": 2
}
